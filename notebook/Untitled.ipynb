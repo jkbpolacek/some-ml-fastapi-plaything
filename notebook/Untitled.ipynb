{
 "cells": [
  {
   "cell_type": "code",
   "execution_count": 1,
   "id": "d16f1992",
   "metadata": {},
   "outputs": [],
   "source": [
    "import pandas\n",
    "from sklearn.compose import ColumnTransformer\n",
    "from sklearn.datasets import fetch_openml\n",
    "from sklearn.pipeline import Pipeline\n",
    "from sklearn.impute import SimpleImputer\n",
    "from sklearn.preprocessing import StandardScaler, OneHotEncoder\n",
    "from sklearn.linear_model import LogisticRegression\n",
    "from sklearn.model_selection import train_test_split, GridSearchCV\n",
    "from sklearn.ensemble import RandomForestClassifier"
   ]
  },
  {
   "cell_type": "code",
   "execution_count": 28,
   "id": "2d3de6c0",
   "metadata": {},
   "outputs": [],
   "source": [
    "test = pandas.read_csv(\"../data/test.csv\")\n",
    "train = pandas.read_csv(\"../data/train.csv\")"
   ]
  },
  {
   "cell_type": "code",
   "execution_count": 102,
   "id": "d9d4f3c8",
   "metadata": {
    "scrolled": true
   },
   "outputs": [
    {
     "data": {
      "text/html": [
       "<div>\n",
       "<style scoped>\n",
       "    .dataframe tbody tr th:only-of-type {\n",
       "        vertical-align: middle;\n",
       "    }\n",
       "\n",
       "    .dataframe tbody tr th {\n",
       "        vertical-align: top;\n",
       "    }\n",
       "\n",
       "    .dataframe thead th {\n",
       "        text-align: right;\n",
       "    }\n",
       "</style>\n",
       "<table border=\"1\" class=\"dataframe\">\n",
       "  <thead>\n",
       "    <tr style=\"text-align: right;\">\n",
       "      <th></th>\n",
       "      <th>PassengerId</th>\n",
       "      <th>Pclass</th>\n",
       "      <th>Name</th>\n",
       "      <th>Sex</th>\n",
       "      <th>Age</th>\n",
       "      <th>SibSp</th>\n",
       "      <th>Parch</th>\n",
       "      <th>Ticket</th>\n",
       "      <th>Fare</th>\n",
       "      <th>Cabin</th>\n",
       "      <th>Embarked</th>\n",
       "    </tr>\n",
       "  </thead>\n",
       "  <tbody>\n",
       "    <tr>\n",
       "      <th>0</th>\n",
       "      <td>892</td>\n",
       "      <td>3</td>\n",
       "      <td>Kelly, Mr. James</td>\n",
       "      <td>male</td>\n",
       "      <td>34.5</td>\n",
       "      <td>0</td>\n",
       "      <td>0</td>\n",
       "      <td>330911</td>\n",
       "      <td>7.8292</td>\n",
       "      <td>NaN</td>\n",
       "      <td>Q</td>\n",
       "    </tr>\n",
       "    <tr>\n",
       "      <th>1</th>\n",
       "      <td>893</td>\n",
       "      <td>3</td>\n",
       "      <td>Wilkes, Mrs. James (Ellen Needs)</td>\n",
       "      <td>female</td>\n",
       "      <td>47.0</td>\n",
       "      <td>1</td>\n",
       "      <td>0</td>\n",
       "      <td>363272</td>\n",
       "      <td>7.0000</td>\n",
       "      <td>NaN</td>\n",
       "      <td>S</td>\n",
       "    </tr>\n",
       "    <tr>\n",
       "      <th>2</th>\n",
       "      <td>894</td>\n",
       "      <td>2</td>\n",
       "      <td>Myles, Mr. Thomas Francis</td>\n",
       "      <td>male</td>\n",
       "      <td>62.0</td>\n",
       "      <td>0</td>\n",
       "      <td>0</td>\n",
       "      <td>240276</td>\n",
       "      <td>9.6875</td>\n",
       "      <td>NaN</td>\n",
       "      <td>Q</td>\n",
       "    </tr>\n",
       "    <tr>\n",
       "      <th>3</th>\n",
       "      <td>895</td>\n",
       "      <td>3</td>\n",
       "      <td>Wirz, Mr. Albert</td>\n",
       "      <td>male</td>\n",
       "      <td>27.0</td>\n",
       "      <td>0</td>\n",
       "      <td>0</td>\n",
       "      <td>315154</td>\n",
       "      <td>8.6625</td>\n",
       "      <td>NaN</td>\n",
       "      <td>S</td>\n",
       "    </tr>\n",
       "    <tr>\n",
       "      <th>4</th>\n",
       "      <td>896</td>\n",
       "      <td>3</td>\n",
       "      <td>Hirvonen, Mrs. Alexander (Helga E Lindqvist)</td>\n",
       "      <td>female</td>\n",
       "      <td>22.0</td>\n",
       "      <td>1</td>\n",
       "      <td>1</td>\n",
       "      <td>3101298</td>\n",
       "      <td>12.2875</td>\n",
       "      <td>NaN</td>\n",
       "      <td>S</td>\n",
       "    </tr>\n",
       "  </tbody>\n",
       "</table>\n",
       "</div>"
      ],
      "text/plain": [
       "   PassengerId  Pclass                                          Name     Sex  \\\n",
       "0          892       3                              Kelly, Mr. James    male   \n",
       "1          893       3              Wilkes, Mrs. James (Ellen Needs)  female   \n",
       "2          894       2                     Myles, Mr. Thomas Francis    male   \n",
       "3          895       3                              Wirz, Mr. Albert    male   \n",
       "4          896       3  Hirvonen, Mrs. Alexander (Helga E Lindqvist)  female   \n",
       "\n",
       "    Age  SibSp  Parch   Ticket     Fare Cabin Embarked  \n",
       "0  34.5      0      0   330911   7.8292   NaN        Q  \n",
       "1  47.0      1      0   363272   7.0000   NaN        S  \n",
       "2  62.0      0      0   240276   9.6875   NaN        Q  \n",
       "3  27.0      0      0   315154   8.6625   NaN        S  \n",
       "4  22.0      1      1  3101298  12.2875   NaN        S  "
      ]
     },
     "execution_count": 102,
     "metadata": {},
     "output_type": "execute_result"
    }
   ],
   "source": [
    "test.head()"
   ]
  },
  {
   "cell_type": "code",
   "execution_count": 36,
   "id": "5ad30d74",
   "metadata": {},
   "outputs": [
    {
     "data": {
      "text/plain": [
       "(array(['male', 'female'], dtype=object),\n",
       " array(['S', 'C', 'Q', nan], dtype=object),\n",
       " array([3, 1, 2]))"
      ]
     },
     "execution_count": 36,
     "metadata": {},
     "output_type": "execute_result"
    }
   ],
   "source": [
    "train.Sex.unique(), train.Embarked.unique(), train.Pclass.unique()"
   ]
  },
  {
   "cell_type": "raw",
   "id": "faeef7fd",
   "metadata": {},
   "source": []
  },
  {
   "cell_type": "code",
   "execution_count": 103,
   "id": "be9e68b6",
   "metadata": {},
   "outputs": [],
   "source": [
    "y = train['Survived']\n",
    "x = train[train.columns.drop('Survived').drop('PassengerId').drop('Cabin').drop('Ticket').drop('Name')]"
   ]
  },
  {
   "cell_type": "code",
   "execution_count": 104,
   "id": "8bd267f9",
   "metadata": {},
   "outputs": [],
   "source": [
    "X_train, X_test, y_train, y_test = train_test_split(X, y, random_state=0)"
   ]
  },
  {
   "cell_type": "code",
   "execution_count": 105,
   "id": "bf6d8ec9",
   "metadata": {
    "scrolled": true
   },
   "outputs": [
    {
     "data": {
      "text/plain": [
       "(     Pclass  Sex   Age  SibSp  Parch     Fare Embarked\n",
       " 105       3    1  28.0      0      0   7.8958        S\n",
       " 68        3    1  17.0      4      2   7.9250        S\n",
       " 253       3    1  30.0      1      0  16.1000        S\n",
       " 320       3    1  22.0      0      0   7.2500        S\n",
       " 706       2    1  45.0      0      0  13.5000        S,\n",
       " 105    0\n",
       " 68     1\n",
       " 253    0\n",
       " 320    0\n",
       " 706    1\n",
       " Name: Survived, dtype: int64)"
      ]
     },
     "execution_count": 105,
     "metadata": {},
     "output_type": "execute_result"
    }
   ],
   "source": [
    "X_train.head(), y_train.head()"
   ]
  },
  {
   "cell_type": "code",
   "execution_count": 106,
   "id": "92957718",
   "metadata": {},
   "outputs": [],
   "source": [
    "numeric_features = [\"Age\", \"Fare\", \"SibSp\", \"Parch\"]\n",
    "numeric_transformer = Pipeline(\n",
    "    steps=[(\"imputer\", SimpleImputer(strategy=\"median\")), (\"scaler\", StandardScaler())]\n",
    ")\n",
    "\n",
    "\n",
    "categorical_features = [\"Sex\", \"Pclass\", \"Embarked\"]\n",
    "categorical_transformer = OneHotEncoder(handle_unknown=\"ignore\")\n",
    "\n",
    "preprocessor = ColumnTransformer(\n",
    "    transformers=[\n",
    "        (\"num\", numeric_transformer, numeric_features),\n",
    "        (\"cat\", categorical_transformer, categorical_features),\n",
    "    ]\n",
    ")\n",
    "\n",
    "# Append classifier to preprocessing pipeline.\n",
    "# Now we have a full prediction pipeline.\n",
    "clf = Pipeline(\n",
    "    steps=[(\"preprocessor\", preprocessor), (\"classifier\", LogisticRegression())]\n",
    ")"
   ]
  },
  {
   "cell_type": "code",
   "execution_count": 108,
   "id": "a3a68785",
   "metadata": {},
   "outputs": [
    {
     "data": {
      "text/plain": [
       "0.7219730941704036"
      ]
     },
     "execution_count": 108,
     "metadata": {},
     "output_type": "execute_result"
    }
   ],
   "source": [
    "clf.fit(X_train, y_train)\n",
    "clf.score(X_test, y_test)"
   ]
  },
  {
   "cell_type": "code",
   "execution_count": 111,
   "id": "1219f6ed",
   "metadata": {},
   "outputs": [
    {
     "data": {
      "text/html": [
       "<div>\n",
       "<style scoped>\n",
       "    .dataframe tbody tr th:only-of-type {\n",
       "        vertical-align: middle;\n",
       "    }\n",
       "\n",
       "    .dataframe tbody tr th {\n",
       "        vertical-align: top;\n",
       "    }\n",
       "\n",
       "    .dataframe thead th {\n",
       "        text-align: right;\n",
       "    }\n",
       "</style>\n",
       "<table border=\"1\" class=\"dataframe\">\n",
       "  <thead>\n",
       "    <tr style=\"text-align: right;\">\n",
       "      <th></th>\n",
       "      <th>Pclass</th>\n",
       "      <th>Sex</th>\n",
       "      <th>Age</th>\n",
       "      <th>SibSp</th>\n",
       "      <th>Parch</th>\n",
       "      <th>Fare</th>\n",
       "      <th>Embarked</th>\n",
       "    </tr>\n",
       "  </thead>\n",
       "  <tbody>\n",
       "    <tr>\n",
       "      <th>105</th>\n",
       "      <td>3</td>\n",
       "      <td>1</td>\n",
       "      <td>28.0</td>\n",
       "      <td>0</td>\n",
       "      <td>0</td>\n",
       "      <td>7.8958</td>\n",
       "      <td>S</td>\n",
       "    </tr>\n",
       "    <tr>\n",
       "      <th>68</th>\n",
       "      <td>3</td>\n",
       "      <td>1</td>\n",
       "      <td>17.0</td>\n",
       "      <td>4</td>\n",
       "      <td>2</td>\n",
       "      <td>7.9250</td>\n",
       "      <td>S</td>\n",
       "    </tr>\n",
       "    <tr>\n",
       "      <th>253</th>\n",
       "      <td>3</td>\n",
       "      <td>1</td>\n",
       "      <td>30.0</td>\n",
       "      <td>1</td>\n",
       "      <td>0</td>\n",
       "      <td>16.1000</td>\n",
       "      <td>S</td>\n",
       "    </tr>\n",
       "    <tr>\n",
       "      <th>320</th>\n",
       "      <td>3</td>\n",
       "      <td>1</td>\n",
       "      <td>22.0</td>\n",
       "      <td>0</td>\n",
       "      <td>0</td>\n",
       "      <td>7.2500</td>\n",
       "      <td>S</td>\n",
       "    </tr>\n",
       "    <tr>\n",
       "      <th>706</th>\n",
       "      <td>2</td>\n",
       "      <td>1</td>\n",
       "      <td>45.0</td>\n",
       "      <td>0</td>\n",
       "      <td>0</td>\n",
       "      <td>13.5000</td>\n",
       "      <td>S</td>\n",
       "    </tr>\n",
       "  </tbody>\n",
       "</table>\n",
       "</div>"
      ],
      "text/plain": [
       "     Pclass  Sex   Age  SibSp  Parch     Fare Embarked\n",
       "105       3    1  28.0      0      0   7.8958        S\n",
       "68        3    1  17.0      4      2   7.9250        S\n",
       "253       3    1  30.0      1      0  16.1000        S\n",
       "320       3    1  22.0      0      0   7.2500        S\n",
       "706       2    1  45.0      0      0  13.5000        S"
      ]
     },
     "execution_count": 111,
     "metadata": {},
     "output_type": "execute_result"
    }
   ],
   "source": [
    "X_train.head()"
   ]
  },
  {
   "cell_type": "code",
   "execution_count": 110,
   "id": "09c68d81",
   "metadata": {},
   "outputs": [
    {
     "data": {
      "text/plain": [
       "array([[-0.13279288, -0.48380773, -0.46037161, ...,  0.        ,\n",
       "         1.        ,  0.        ],\n",
       "       [-0.98165075, -0.48323058,  2.98532288, ...,  0.        ,\n",
       "         1.        ,  0.        ],\n",
       "       [ 0.02154491, -0.32165051,  0.40105202, ...,  0.        ,\n",
       "         1.        ,  0.        ],\n",
       "       ...,\n",
       "       [-0.05562399, -0.48701956, -0.46037161, ...,  1.        ,\n",
       "         0.        ,  0.        ],\n",
       "       [ 0.48455829, -0.29595582,  0.40105202, ...,  0.        ,\n",
       "         1.        ,  0.        ],\n",
       "       [ 2.3366118 ,  0.13097136,  0.40105202, ...,  0.        ,\n",
       "         1.        ,  0.        ]])"
      ]
     },
     "execution_count": 110,
     "metadata": {},
     "output_type": "execute_result"
    }
   ],
   "source": [
    "preprocessor.fit_transform(X_train)"
   ]
  },
  {
   "cell_type": "code",
   "execution_count": 123,
   "id": "40fefb9a",
   "metadata": {},
   "outputs": [
    {
     "data": {
      "text/plain": [
       "668"
      ]
     },
     "execution_count": 123,
     "metadata": {},
     "output_type": "execute_result"
    }
   ],
   "source": []
  },
  {
   "cell_type": "code",
   "execution_count": 115,
   "id": "fac1a8b5",
   "metadata": {},
   "outputs": [],
   "source": [
    "def classify(**kwargs):\n",
    "    clf = Pipeline(\n",
    "        steps=[(\"preprocessor\", preprocessor), (\"classifier\", RandomForestClassifier(**kwargs))]\n",
    "    )\n",
    "    clf.fit(X_train, y_train)\n",
    "    return clf.score(X_test, y_test)"
   ]
  },
  {
   "cell_type": "code",
   "execution_count": 131,
   "id": "0991c63d",
   "metadata": {},
   "outputs": [
    {
     "name": "stdout",
     "output_type": "stream",
     "text": [
      "0.7318385650224215 {'criterion': 'gini', 'n_estimators': 100}\n",
      "0.7372197309417041 {'criterion': 'gini', 'n_estimators': 200}\n",
      "0.7327354260089687 {'criterion': 'gini', 'n_estimators': 300}\n",
      "0.7318385650224215 {'criterion': 'gini', 'n_estimators': 400}\n",
      "0.7246636771300448 {'criterion': 'gini', 'n_estimators': 800}\n",
      "0.7376681614349776 {'criterion': 'entropy', 'n_estimators': 100}\n",
      "0.7322869955156952 {'criterion': 'entropy', 'n_estimators': 200}\n",
      "0.7385650224215248 {'criterion': 'entropy', 'n_estimators': 300}\n",
      "0.7372197309417039 {'criterion': 'entropy', 'n_estimators': 400}\n",
      "0.7367713004484305 {'criterion': 'entropy', 'n_estimators': 800}\n"
     ]
    }
   ],
   "source": [
    "for settings in [\n",
    "    {\"criterion\": \"gini\", \"n_estimators\":100},\n",
    "    {\"criterion\": \"gini\", \"n_estimators\":200},\n",
    "    {\"criterion\": \"gini\", \"n_estimators\":300},\n",
    "    {\"criterion\": \"gini\", \"n_estimators\":400},\n",
    "    {\"criterion\": \"gini\", \"n_estimators\":800},\n",
    "    {\"criterion\":\"entropy\", \"n_estimators\":100}, \n",
    "    {\"criterion\":\"entropy\", \"n_estimators\":200}, \n",
    "    {\"criterion\":\"entropy\", \"n_estimators\":300}, \n",
    "    {\"criterion\":\"entropy\", \"n_estimators\":400},\n",
    "    {\"criterion\":\"entropy\", \"n_estimators\":800}, \n",
    "    \n",
    "]:\n",
    "    print(sum([classify(**settings) for _ in range(10)])/10, settings)"
   ]
  },
  {
   "cell_type": "code",
   "execution_count": 133,
   "id": "fde1ae28",
   "metadata": {},
   "outputs": [
    {
     "name": "stdout",
     "output_type": "stream",
     "text": [
      "0.7318385650224215 {'criterion': 'entropy', 'n_estimators': 300}\n",
      "0.7340807174887893 {'criterion': 'entropy', 'n_estimators': 300, 'max_depth': 4}\n",
      "0.7452914798206278 {'criterion': 'entropy', 'n_estimators': 300, 'max_depth': 6}\n",
      "0.747982062780269 {'criterion': 'entropy', 'n_estimators': 300, 'max_depth': 8}\n",
      "0.7551569506726457 {'criterion': 'entropy', 'n_estimators': 300, 'max_depth': 10}\n",
      "0.7443946188340808 {'criterion': 'entropy', 'n_estimators': 300, 'max_depth': 12}\n"
     ]
    }
   ],
   "source": [
    "for settings in [ \n",
    "    {\"criterion\":\"entropy\", \"n_estimators\":300},\n",
    "    {\"criterion\":\"entropy\", \"n_estimators\":300, \"max_depth\":4},\n",
    "    {\"criterion\":\"entropy\", \"n_estimators\":300, \"max_depth\":6},\n",
    "    {\"criterion\":\"entropy\", \"n_estimators\":300, \"max_depth\":8},\n",
    "    {\"criterion\":\"entropy\", \"n_estimators\":300, \"max_depth\":10},\n",
    "    {\"criterion\":\"entropy\", \"n_estimators\":300, \"max_depth\":12},\n",
    "    \n",
    "]:\n",
    "    print(sum([classify(**settings) for _ in range(10)])/10, settings)"
   ]
  },
  {
   "cell_type": "code",
   "execution_count": 134,
   "id": "af7d8651",
   "metadata": {
    "scrolled": true
   },
   "outputs": [
    {
     "name": "stdout",
     "output_type": "stream",
     "text": [
      "0.7551569506726458 {'criterion': 'entropy', 'n_estimators': 300, 'max_depth': 10}\n",
      "0.7457399103139014 {'criterion': 'entropy', 'n_estimators': 300, 'max_depth': 10, 'bootstrap': False}\n"
     ]
    }
   ],
   "source": [
    "for settings in [ \n",
    "    {\"criterion\":\"entropy\", \"n_estimators\":300, \"max_depth\":10},\n",
    "]:\n",
    "    print(sum([classify(**settings) for _ in range(10)])/10, settings)"
   ]
  },
  {
   "cell_type": "code",
   "execution_count": 136,
   "id": "20292a06",
   "metadata": {},
   "outputs": [],
   "source": [
    "from operator import itemgetter\n",
    "\n",
    "def classify(**kwargs):\n",
    "    clf = Pipeline(\n",
    "        steps=[(\"preprocessor\", preprocessor), (\"classifier\", RandomForestClassifier(**kwargs))]\n",
    "    )\n",
    "    clf.fit(X_train, y_train)\n",
    "    return clf.score(X_test, y_test), clf"
   ]
  },
  {
   "cell_type": "code",
   "execution_count": 138,
   "id": "968c0b86",
   "metadata": {},
   "outputs": [
    {
     "data": {
      "text/plain": [
       "(0.7713004484304933,\n",
       " Pipeline(steps=[('preprocessor',\n",
       "                  ColumnTransformer(transformers=[('num',\n",
       "                                                   Pipeline(steps=[('imputer',\n",
       "                                                                    SimpleImputer(strategy='median')),\n",
       "                                                                   ('scaler',\n",
       "                                                                    StandardScaler())]),\n",
       "                                                   ['Age', 'Fare', 'SibSp',\n",
       "                                                    'Parch']),\n",
       "                                                  ('cat',\n",
       "                                                   OneHotEncoder(handle_unknown='ignore'),\n",
       "                                                   ['Sex', 'Pclass',\n",
       "                                                    'Embarked'])])),\n",
       "                 ('classifier',\n",
       "                  RandomForestClassifier(criterion='entropy', max_depth=10,\n",
       "                                         n_estimators=300))]))"
      ]
     },
     "execution_count": 138,
     "metadata": {},
     "output_type": "execute_result"
    }
   ],
   "source": [
    "settings = {\"criterion\":\"entropy\", \"n_estimators\":300, \"max_depth\":10}\n",
    "\n",
    "result = max((classify(**settings) for _ in range(1000)),key=itemgetter(0))\n",
    "result"
   ]
  },
  {
   "cell_type": "code",
   "execution_count": 139,
   "id": "1943df92",
   "metadata": {},
   "outputs": [],
   "source": [
    "import pickle"
   ]
  },
  {
   "cell_type": "code",
   "execution_count": 2,
   "id": "5bb61389",
   "metadata": {},
   "outputs": [],
   "source": [
    "from joblib import dump, load"
   ]
  },
  {
   "cell_type": "code",
   "execution_count": 141,
   "id": "1e9f7aa5",
   "metadata": {},
   "outputs": [
    {
     "data": {
      "text/plain": [
       "['model.joblib']"
      ]
     },
     "execution_count": 141,
     "metadata": {},
     "output_type": "execute_result"
    }
   ],
   "source": [
    "dump(result[1], 'model.joblib')"
   ]
  },
  {
   "cell_type": "code",
   "execution_count": 4,
   "id": "4ef9d9d0",
   "metadata": {},
   "outputs": [],
   "source": [
    "clf = load(\"../model/model.joblib\")"
   ]
  },
  {
   "cell_type": "code",
   "execution_count": 25,
   "id": "8e76b1a1",
   "metadata": {},
   "outputs": [],
   "source": [
    "a = pandas.DataFrame([{\n",
    "    \"Age\": 2,\n",
    "    \"SibSp\": 0,\n",
    "    \"Parch\": 0,\n",
    "    \"Fare\": 0,\n",
    "    \"Sex\": \"male\",\n",
    "    \"Pclass\": 0,\n",
    "    \"Embarked\": \"S\"\n",
    "}])"
   ]
  },
  {
   "cell_type": "code",
   "execution_count": 19,
   "id": "43a6297b",
   "metadata": {},
   "outputs": [
    {
     "data": {
      "text/plain": [
       "{'steps': [('preprocessor',\n",
       "   ColumnTransformer(transformers=[('num',\n",
       "                                    Pipeline(steps=[('imputer',\n",
       "                                                     SimpleImputer(strategy='median')),\n",
       "                                                    ('scaler', StandardScaler())]),\n",
       "                                    ['Age', 'Fare', 'SibSp', 'Parch']),\n",
       "                                   ('cat', OneHotEncoder(handle_unknown='ignore'),\n",
       "                                    ['Sex', 'Pclass', 'Embarked'])])),\n",
       "  ('classifier',\n",
       "   RandomForestClassifier(criterion='entropy', max_depth=10, n_estimators=300))],\n",
       " 'memory': None,\n",
       " 'verbose': False}"
      ]
     },
     "execution_count": 19,
     "metadata": {},
     "output_type": "execute_result"
    }
   ],
   "source": [
    "clf.__dict__"
   ]
  },
  {
   "cell_type": "code",
   "execution_count": 26,
   "id": "5764b51d",
   "metadata": {},
   "outputs": [
    {
     "data": {
      "text/plain": [
       "array([0])"
      ]
     },
     "execution_count": 26,
     "metadata": {},
     "output_type": "execute_result"
    }
   ],
   "source": [
    "clf.predict(a)"
   ]
  }
 ],
 "metadata": {
  "kernelspec": {
   "display_name": "Python 3 (ipykernel)",
   "language": "python",
   "name": "python3"
  },
  "language_info": {
   "codemirror_mode": {
    "name": "ipython",
    "version": 3
   },
   "file_extension": ".py",
   "mimetype": "text/x-python",
   "name": "python",
   "nbconvert_exporter": "python",
   "pygments_lexer": "ipython3",
   "version": "3.10.2"
  }
 },
 "nbformat": 4,
 "nbformat_minor": 5
}
